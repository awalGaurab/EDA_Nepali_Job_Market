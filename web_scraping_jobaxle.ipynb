{
 "cells": [
  {
   "cell_type": "code",
   "execution_count": 1,
   "id": "cb259bfb",
   "metadata": {},
   "outputs": [],
   "source": [
    "import os\n",
    "import csv\n",
    "import requests\n",
    "from bs4 import BeautifulSoup"
   ]
  },
  {
   "cell_type": "code",
   "execution_count": 2,
   "id": "f4f6116d",
   "metadata": {},
   "outputs": [],
   "source": [
    "URL = \"https://jobaxle.com/search\"\n",
    "page = requests.get(URL)\n",
    "soup = BeautifulSoup(page.content, \"html.parser\")\n",
    "\n",
    "# print(soup.prettify())\n",
    "cards = soup.find_all('div',class_=\"job_block\") # select all cards\n",
    "for card in cards:  # For each cards\n",
    "    job_title = card.find('div',class_='job_block_ttl').text.strip()\n",
    "    company_name = card.find('div',class_='job_block_company_name').text.strip()\n",
    "    \n",
    "    li_item = card.find('ul')\n",
    "    skill = (li_item.find_all('li')[0]).text\n",
    "    location = (li_item.find_all('li')[1]).text\n",
    "    \n",
    "    filename=\"merojob.csv\"\n",
    "    headers = ['Job title','Company name','Location','Skills']\n",
    "    file_exists = os.path.isfile(filename)\n",
    "    \n",
    "    data_list = [job_title,company_name,location,skill]\n",
    "    \n",
    "    with open(filename, mode='a', newline='', encoding='utf-8') as file:\n",
    "            file_writer = csv.writer(file, delimiter=',')\n",
    "            if not file_exists:\n",
    "                file_writer.writerow(headers)\n",
    "            file_writer.writerow(data_list)"
   ]
  },
  {
   "cell_type": "code",
   "execution_count": null,
   "id": "c70d7fbd",
   "metadata": {},
   "outputs": [],
   "source": []
  }
 ],
 "metadata": {
  "kernelspec": {
   "display_name": "jobenv",
   "language": "python",
   "name": "jobenv"
  },
  "language_info": {
   "codemirror_mode": {
    "name": "ipython",
    "version": 3
   },
   "file_extension": ".py",
   "mimetype": "text/x-python",
   "name": "python",
   "nbconvert_exporter": "python",
   "pygments_lexer": "ipython3",
   "version": "3.10.4"
  }
 },
 "nbformat": 4,
 "nbformat_minor": 5
}
